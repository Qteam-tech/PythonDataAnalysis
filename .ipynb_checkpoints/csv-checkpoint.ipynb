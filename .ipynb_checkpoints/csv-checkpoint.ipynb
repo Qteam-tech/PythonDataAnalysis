{
 "cells": [
  {
   "cell_type": "code",
   "execution_count": 5,
   "id": "75a1ea81-10fc-411b-8adf-195dbe232c78",
   "metadata": {},
   "outputs": [
    {
     "data": {
      "text/plain": [
       "234"
      ]
     },
     "execution_count": 5,
     "metadata": {},
     "output_type": "execute_result"
    }
   ],
   "source": [
    "import csv\n",
    "\n",
    "%precision 2\n",
    "\n",
    "with open('data/mpg.csv') as csvfile:\n",
    "    mpg = list(csv.DictReader(csvfile))\n",
    "len(mpg)"
   ]
  },
  {
   "cell_type": "code",
   "execution_count": 6,
   "id": "20c8f56b-042d-4c31-ab1f-d43b3bf755d2",
   "metadata": {},
   "outputs": [
    {
     "data": {
      "text/plain": [
       "{'': '1',\n",
       " 'manufacturer': 'audi',\n",
       " 'model': 'a4',\n",
       " 'displ': '1.8',\n",
       " 'year': '1999',\n",
       " 'cyl': '4',\n",
       " 'trans': 'auto(l5)',\n",
       " 'drv': 'f',\n",
       " 'cty': '18',\n",
       " 'hwy': '29',\n",
       " 'fl': 'p',\n",
       " 'class': 'compact'}"
      ]
     },
     "execution_count": 6,
     "metadata": {},
     "output_type": "execute_result"
    }
   ],
   "source": [
    "mpg[0]"
   ]
  },
  {
   "cell_type": "code",
   "execution_count": 8,
   "id": "bc888a39-3dfd-4c32-9f5e-ee643bad970c",
   "metadata": {},
   "outputs": [
    {
     "data": {
      "text/plain": [
       "dict_keys(['', 'manufacturer', 'model', 'displ', 'year', 'cyl', 'trans', 'drv', 'cty', 'hwy', 'fl', 'class'])"
      ]
     },
     "execution_count": 8,
     "metadata": {},
     "output_type": "execute_result"
    }
   ],
   "source": [
    "mpg[0].keys()"
   ]
  },
  {
   "cell_type": "code",
   "execution_count": 12,
   "id": "542e118d-0316-4261-af16-7ffb9cb1dbf5",
   "metadata": {},
   "outputs": [
    {
     "data": {
      "text/plain": [
       "16.86"
      ]
     },
     "execution_count": 12,
     "metadata": {},
     "output_type": "execute_result"
    }
   ],
   "source": [
    "sum(float(d['cty']) for d in mpg)/len(mpg)"
   ]
  },
  {
   "cell_type": "code",
   "execution_count": 16,
   "id": "fad4ab8a-ab24-4329-899a-fbf08a5dd6a1",
   "metadata": {},
   "outputs": [
    {
     "data": {
      "text/plain": [
       "23.44"
      ]
     },
     "execution_count": 16,
     "metadata": {},
     "output_type": "execute_result"
    }
   ],
   "source": [
    "sum(float(d['hwy']) for d in mpg)/ len(mpg)"
   ]
  },
  {
   "cell_type": "code",
   "execution_count": 20,
   "id": "5cde0477-9312-4b2a-b62b-95bc567730f8",
   "metadata": {},
   "outputs": [
    {
     "data": {
      "text/plain": [
       "{'4', '5', '6', '8'}"
      ]
     },
     "execution_count": 20,
     "metadata": {},
     "output_type": "execute_result"
    }
   ],
   "source": [
    "cylinders = set(d['cyl'] for d in mpg)\n",
    "cylinders"
   ]
  },
  {
   "cell_type": "code",
   "execution_count": 26,
   "id": "7d7adbff-f120-4926-8b28-4b572e05aeea",
   "metadata": {},
   "outputs": [
    {
     "data": {
      "text/plain": [
       "[('4', 21.01), ('5', 20.50), ('6', 16.22), ('8', 12.57)]"
      ]
     },
     "execution_count": 26,
     "metadata": {},
     "output_type": "execute_result"
    }
   ],
   "source": [
    "CtyMpgByCyl = []\n",
    "\n",
    "for c in cylinders:\n",
    "    sumMpg = 0\n",
    "    CylTypeCount = 0\n",
    "    for d in mpg:\n",
    "        if d['cyl'] == c:\n",
    "            sumMpg += float(d['cty'])\n",
    "            CylTypeCount +=1\n",
    "    CtyMpgByCyl.append((c, sumMpg/CylTypeCount))\n",
    "CtyMpgByCyl.sort(key = lambda x : x[0])\n",
    "CtyMpgByCyl"
   ]
  },
  {
   "cell_type": "code",
   "execution_count": 33,
   "id": "9ebade08-5ed7-4e46-9c28-edaf905ec42f",
   "metadata": {},
   "outputs": [
    {
     "data": {
      "text/plain": [
       "{'2seater', 'compact', 'midsize', 'minivan', 'pickup', 'subcompact', 'suv'}"
      ]
     },
     "execution_count": 33,
     "metadata": {},
     "output_type": "execute_result"
    }
   ],
   "source": [
    "mpgType = set(t['class'] for t in mpg)\n",
    "mpgType"
   ]
  },
  {
   "cell_type": "code",
   "execution_count": 34,
   "id": "0e87db64-a104-413e-8ace-d11febd1b2c4",
   "metadata": {},
   "outputs": [
    {
     "data": {
      "text/plain": [
       "[('pickup', 16.88),\n",
       " ('suv', 18.13),\n",
       " ('minivan', 22.36),\n",
       " ('2seater', 24.80),\n",
       " ('midsize', 27.29),\n",
       " ('subcompact', 28.14),\n",
       " ('compact', 28.30)]"
      ]
     },
     "execution_count": 34,
     "metadata": {},
     "output_type": "execute_result"
    }
   ],
   "source": [
    "MpgType = []\n",
    "\n",
    "for t in mpgType:\n",
    "    sumMpg = 0\n",
    "    classTypeCount = 0 \n",
    "    for d in mpg:\n",
    "        if d['class'] == t:\n",
    "            sumMpg += float(d['hwy'])\n",
    "            classTypeCount += 1\n",
    "    MpgType.append((t, sumMpg/classTypeCount))\n",
    "MpgType.sort(key = lambda x : x[1])\n",
    "MpgType        "
   ]
  }
 ],
 "metadata": {
  "kernelspec": {
   "display_name": "Python 3 (ipykernel)",
   "language": "python",
   "name": "python3"
  },
  "language_info": {
   "codemirror_mode": {
    "name": "ipython",
    "version": 3
   },
   "file_extension": ".py",
   "mimetype": "text/x-python",
   "name": "python",
   "nbconvert_exporter": "python",
   "pygments_lexer": "ipython3",
   "version": "3.12.1"
  }
 },
 "nbformat": 4,
 "nbformat_minor": 5
}
