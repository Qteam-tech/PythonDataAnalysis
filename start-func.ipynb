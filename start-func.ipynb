{
 "cells": [
  {
   "cell_type": "code",
   "execution_count": 6,
   "id": "ba2a6366-8fa0-4f8a-a316-2441a135d0a2",
   "metadata": {},
   "outputs": [
    {
     "name": "stdout",
     "output_type": "stream",
     "text": [
      "-1\n",
      "6\n"
     ]
    }
   ],
   "source": [
    "def add_numbers(x, y, z=None, kind='minus'):\n",
    "    if kind == 'minus':\n",
    "        return x-y\n",
    "    else:\n",
    "        if z == None:\n",
    "            return x+y\n",
    "        else:\n",
    "            return x+y+z\n",
    "\n",
    "print(add_numbers(1, 2))\n",
    "print(add_numbers(1, 2, 3, kind='add'))"
   ]
  },
  {
   "cell_type": "code",
   "execution_count": 7,
   "id": "5ef950ed-8d70-449a-b051-fccf5cb38882",
   "metadata": {},
   "outputs": [
    {
     "data": {
      "text/plain": [
       "-1"
      ]
     },
     "execution_count": 7,
     "metadata": {},
     "output_type": "execute_result"
    }
   ],
   "source": [
    "func = add_numbers\n",
    "func(1,2)"
   ]
  },
  {
   "cell_type": "code",
   "execution_count": 11,
   "id": "e2630c34-78da-41c1-8605-45cc0e1a1b54",
   "metadata": {},
   "outputs": [
    {
     "data": {
      "text/plain": [
       "-1"
      ]
     },
     "execution_count": 11,
     "metadata": {},
     "output_type": "execute_result"
    }
   ],
   "source": [
    "func(1, 2, 3)"
   ]
  },
  {
   "cell_type": "code",
   "execution_count": 12,
   "id": "f5e8d4c3-a4ed-4ae0-8550-eb144bb3b1fd",
   "metadata": {},
   "outputs": [
    {
     "data": {
      "text/plain": [
       "function"
      ]
     },
     "execution_count": 12,
     "metadata": {},
     "output_type": "execute_result"
    }
   ],
   "source": [
    "type(func)"
   ]
  },
  {
   "cell_type": "code",
   "execution_count": 15,
   "id": "05f5b7a0-f45f-449c-bcd6-86d291862b89",
   "metadata": {},
   "outputs": [
    {
     "data": {
      "text/plain": [
       "int"
      ]
     },
     "execution_count": 15,
     "metadata": {},
     "output_type": "execute_result"
    }
   ],
   "source": [
    "type(123)"
   ]
  },
  {
   "cell_type": "code",
   "execution_count": 17,
   "id": "7fa1e6c5-222e-46b4-8d7c-f4848c38b91f",
   "metadata": {},
   "outputs": [
    {
     "data": {
      "text/plain": [
       "float"
      ]
     },
     "execution_count": 17,
     "metadata": {},
     "output_type": "execute_result"
    }
   ],
   "source": [
    "type(1.2)"
   ]
  },
  {
   "cell_type": "code",
   "execution_count": 19,
   "id": "411443be-8d08-4ac8-9262-132988907f19",
   "metadata": {},
   "outputs": [
    {
     "data": {
      "text/plain": [
       "str"
      ]
     },
     "execution_count": 19,
     "metadata": {},
     "output_type": "execute_result"
    }
   ],
   "source": [
    "type('this is string')"
   ]
  },
  {
   "cell_type": "code",
   "execution_count": 22,
   "id": "1abc1bd7-057c-4474-be65-3058b53792e4",
   "metadata": {},
   "outputs": [
    {
     "data": {
      "text/plain": [
       "tuple"
      ]
     },
     "execution_count": 22,
     "metadata": {},
     "output_type": "execute_result"
    }
   ],
   "source": [
    "a = (2, 234, 'asd', 444, 2)\n",
    "type(a)"
   ]
  },
  {
   "cell_type": "code",
   "execution_count": 25,
   "id": "3ff1c066-d76e-40ab-986f-591a6b24e386",
   "metadata": {},
   "outputs": [
    {
     "data": {
      "text/plain": [
       "list"
      ]
     },
     "execution_count": 25,
     "metadata": {},
     "output_type": "execute_result"
    }
   ],
   "source": [
    "a = [2, 234, 'asd', 444, 2]\n",
    "type(a)"
   ]
  },
  {
   "cell_type": "code",
   "execution_count": 39,
   "id": "05a2619e-60b6-4de6-b566-1dbfd48134e4",
   "metadata": {},
   "outputs": [
    {
     "data": {
      "text/plain": [
       "{'akbar': 'active', 'mamal': 'active'}"
      ]
     },
     "execution_count": 39,
     "metadata": {},
     "output_type": "execute_result"
    }
   ],
   "source": [
    "user_status = {'akbar':'active', 'asghar':'deactive', 'mamal':'active'}\n",
    "\n",
    "\n",
    "for user, status in user_status.copy().items():\n",
    "    if status == 'deactive':\n",
    "        del user_status[user]\n",
    "\n",
    "user_status"
   ]
  },
  {
   "cell_type": "code",
   "execution_count": 52,
   "id": "063c3c76-f49f-45cc-94c7-7d26a2f53365",
   "metadata": {},
   "outputs": [
    {
     "name": "stdout",
     "output_type": "stream",
     "text": [
      "active\n",
      "active\n"
     ]
    }
   ],
   "source": [
    "for key in user_status:\n",
    "    print(user_status[key])"
   ]
  },
  {
   "cell_type": "code",
   "execution_count": 53,
   "id": "c5f0d160-59c7-4f39-a74a-6645d5ca2e43",
   "metadata": {},
   "outputs": [
    {
     "name": "stdout",
     "output_type": "stream",
     "text": [
      "active\n",
      "active\n"
     ]
    }
   ],
   "source": [
    "for status in user_status.values():\n",
    "    print(status)"
   ]
  },
  {
   "cell_type": "code",
   "execution_count": 54,
   "id": "5ac2d852-7004-44ff-aeaf-6921bf303a59",
   "metadata": {},
   "outputs": [
    {
     "name": "stdout",
     "output_type": "stream",
     "text": [
      "akbar active\n",
      "mamal active\n"
     ]
    }
   ],
   "source": [
    "for key, status in user_status.items():\n",
    "    print(key, status)"
   ]
  },
  {
   "cell_type": "code",
   "execution_count": 46,
   "id": "f66b31ef-0229-4aca-8b90-ee6efb7b7df4",
   "metadata": {},
   "outputs": [
    {
     "name": "stdout",
     "output_type": "stream",
     "text": [
      "mohammad keshtehgar\n",
      "mad\n",
      "True\n"
     ]
    }
   ],
   "source": [
    "first_name = 'mohammad'\n",
    "last_name = 'keshtehgar'\n",
    "print(first_name + ' ' + last_name)\n",
    "print(first_name[-3:])\n",
    "print('mm' in first_name)"
   ]
  },
  {
   "cell_type": "code",
   "execution_count": 55,
   "id": "81f010ec-bd45-4a94-b35f-4876b3075420",
   "metadata": {},
   "outputs": [
    {
     "name": "stdout",
     "output_type": "stream",
     "text": [
      "this\n",
      "slicing.\n"
     ]
    }
   ],
   "source": [
    "txt = 'this part of test is for reading and slicing.'\n",
    "print(txt.split(' ')[0])\n",
    "print(txt.split(' ')[-1])"
   ]
  },
  {
   "cell_type": "code",
   "execution_count": 58,
   "id": "43a72d63-1281-4dab-aa20-8391885e54e6",
   "metadata": {},
   "outputs": [
    {
     "data": {
      "text/plain": [
       "'mamal'"
      ]
     },
     "execution_count": 58,
     "metadata": {},
     "output_type": "execute_result"
    }
   ],
   "source": [
    "ab = ('mamal', 3, 'keshtehgar', 123, 'ride')\n",
    "name, age, last_name, final_age, status = ab\n",
    "name"
   ]
  },
  {
   "cell_type": "code",
   "execution_count": 60,
   "id": "bb56429d-110a-4ef1-b08d-9b08759134ef",
   "metadata": {},
   "outputs": [
    {
     "data": {
      "text/plain": [
       "'keshtehgar'"
      ]
     },
     "execution_count": 60,
     "metadata": {},
     "output_type": "execute_result"
    }
   ],
   "source": [
    "last_name"
   ]
  },
  {
   "cell_type": "code",
   "execution_count": 8,
   "id": "6afda115-5357-4cdc-a1ad-168dfa0af864",
   "metadata": {},
   "outputs": [
    {
     "name": "stdout",
     "output_type": "stream",
     "text": [
      "this is new 1, strin formating 2, that help insert values 3 in curly brackets 4 like thease number ten\n"
     ]
    }
   ],
   "source": [
    "txt = \"this is new {}, strin formating {}, that help insert values {} in curly brackets {} like thease number ten\"\n",
    "print(txt.format(1, 2, 3, 4, 5, 6))\n",
    "#something very intresting if you add values more than the number of curly-brackets we do not got any error. ;) "
   ]
  },
  {
   "cell_type": "code",
   "execution_count": null,
   "id": "1b04743e-48fa-4f1d-bfb1-fddc590977bd",
   "metadata": {},
   "outputs": [],
   "source": []
  }
 ],
 "metadata": {
  "kernelspec": {
   "display_name": "Python 3 (ipykernel)",
   "language": "python",
   "name": "python3"
  },
  "language_info": {
   "codemirror_mode": {
    "name": "ipython",
    "version": 3
   },
   "file_extension": ".py",
   "mimetype": "text/x-python",
   "name": "python",
   "nbconvert_exporter": "python",
   "pygments_lexer": "ipython3",
   "version": "3.12.1"
  }
 },
 "nbformat": 4,
 "nbformat_minor": 5
}
