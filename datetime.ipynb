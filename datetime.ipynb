{
 "cells": [
  {
   "cell_type": "markdown",
   "id": "e808773c-eec3-4d48-b89c-f485ddff6b8c",
   "metadata": {},
   "source": [
    "## Date Time "
   ]
  },
  {
   "cell_type": "code",
   "execution_count": 3,
   "id": "665a3fb8-67c5-443b-bc65-63236e0dc1c5",
   "metadata": {},
   "outputs": [],
   "source": [
    "import datetime as dt\n",
    "import time as tm"
   ]
  },
  {
   "cell_type": "code",
   "execution_count": 4,
   "id": "f1204cef-1cf0-4d04-9287-df575f8bac46",
   "metadata": {},
   "outputs": [
    {
     "data": {
      "text/plain": [
       "1706516995.2455199"
      ]
     },
     "execution_count": 4,
     "metadata": {},
     "output_type": "execute_result"
    }
   ],
   "source": [
    "tm.time()"
   ]
  },
  {
   "cell_type": "code",
   "execution_count": 5,
   "id": "ca911691-e81d-45ba-92b5-b0911a6f8d79",
   "metadata": {},
   "outputs": [
    {
     "data": {
      "text/plain": [
       "datetime.datetime(2024, 1, 29, 11, 59, 55, 254560)"
      ]
     },
     "execution_count": 5,
     "metadata": {},
     "output_type": "execute_result"
    }
   ],
   "source": [
    "date_now = dt.datetime.fromtimestamp(tm.time())\n",
    "date_now"
   ]
  },
  {
   "cell_type": "code",
   "execution_count": 6,
   "id": "feb5ca80-2e3a-4f13-be06-54479273d6e2",
   "metadata": {},
   "outputs": [
    {
     "data": {
      "text/plain": [
       "(2024, 1, 29, 11, 59, 55)"
      ]
     },
     "execution_count": 6,
     "metadata": {},
     "output_type": "execute_result"
    }
   ],
   "source": [
    "date_now.year, date_now.month, date_now.day, date_now.hour, date_now.minute, date_now.second"
   ]
  },
  {
   "cell_type": "code",
   "execution_count": 10,
   "id": "8eff97ba-be94-4845-8732-58a94660f70e",
   "metadata": {},
   "outputs": [],
   "source": [
    "delta = dt.timedelta(days = 100)\n",
    "today = dt.date.today()"
   ]
  },
  {
   "cell_type": "code",
   "execution_count": 14,
   "id": "624aa30d-5846-4590-aaf1-2b97ab03af88",
   "metadata": {},
   "outputs": [
    {
     "data": {
      "text/plain": [
       "datetime.date(2023, 10, 21)"
      ]
     },
     "execution_count": 14,
     "metadata": {},
     "output_type": "execute_result"
    }
   ],
   "source": [
    "today - delta"
   ]
  },
  {
   "cell_type": "code",
   "execution_count": 16,
   "id": "66e73b56-b805-4a43-981a-be14b8044bec",
   "metadata": {},
   "outputs": [
    {
     "data": {
      "text/plain": [
       "True"
      ]
     },
     "execution_count": 16,
     "metadata": {},
     "output_type": "execute_result"
    }
   ],
   "source": [
    "today > today - delta"
   ]
  }
 ],
 "metadata": {
  "kernelspec": {
   "display_name": "Python 3 (ipykernel)",
   "language": "python",
   "name": "python3"
  },
  "language_info": {
   "codemirror_mode": {
    "name": "ipython",
    "version": 3
   },
   "file_extension": ".py",
   "mimetype": "text/x-python",
   "name": "python",
   "nbconvert_exporter": "python",
   "pygments_lexer": "ipython3",
   "version": "3.12.1"
  }
 },
 "nbformat": 4,
 "nbformat_minor": 5
}
